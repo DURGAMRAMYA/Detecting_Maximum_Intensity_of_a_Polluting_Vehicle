{
  "cells": [
    {
      "cell_type": "code",
      "execution_count": 1,
      "metadata": {
        "colab": {
          "base_uri": "https://localhost:8080/"
        },
        "id": "IzGR_DkrUEUG",
        "outputId": "6590ff3c-65a4-4871-c244-c7aab1a6c5bd"
      },
      "outputs": [
        {
          "output_type": "stream",
          "name": "stdout",
          "text": [
            "\u001b[2K     \u001b[90m━━━━━━━━━━━━━━━━━━━━━━━━━━━━━━━━━━━━━━━━\u001b[0m \u001b[32m41.9/41.9 kB\u001b[0m \u001b[31m1.3 MB/s\u001b[0m eta \u001b[36m0:00:00\u001b[0m\n",
            "\u001b[2K   \u001b[90m━━━━━━━━━━━━━━━━━━━━━━━━━━━━━━━━━━━━━━━━\u001b[0m \u001b[32m8.7/8.7 MB\u001b[0m \u001b[31m27.0 MB/s\u001b[0m eta \u001b[36m0:00:00\u001b[0m\n",
            "\u001b[2K   \u001b[90m━━━━━━━━━━━━━━━━━━━━━━━━━━━━━━━━━━━━━━━━\u001b[0m \u001b[32m6.9/6.9 MB\u001b[0m \u001b[31m32.2 MB/s\u001b[0m eta \u001b[36m0:00:00\u001b[0m\n",
            "\u001b[2K   \u001b[90m━━━━━━━━━━━━━━━━━━━━━━━━━━━━━━━━━━━━━━━━\u001b[0m \u001b[32m79.3/79.3 kB\u001b[0m \u001b[31m2.3 MB/s\u001b[0m eta \u001b[36m0:00:00\u001b[0m\n",
            "\u001b[?25h"
          ]
        }
      ],
      "source": [
        "!pip install -q streamlit"
      ]
    },
    {
      "cell_type": "code",
      "execution_count": 2,
      "metadata": {
        "colab": {
          "base_uri": "https://localhost:8080/"
        },
        "id": "Q2oXDvxWUOYZ",
        "outputId": "35db589c-c246-49f4-9bd7-91a6d497ae77"
      },
      "outputs": [
        {
          "output_type": "stream",
          "name": "stdout",
          "text": [
            "\u001b[K\u001b[?25h\n",
            "added 22 packages, and audited 23 packages in 3s\n",
            "\n",
            "3 packages are looking for funding\n",
            "  run `npm fund` for details\n",
            "\n",
            "2 \u001b[33m\u001b[1mmoderate\u001b[22m\u001b[39m severity vulnerabilities\n",
            "\n",
            "To address all issues, run:\n",
            "  npm audit fix\n",
            "\n",
            "Run `npm audit` for details.\n"
          ]
        }
      ],
      "source": [
        "!npm install localtunnel"
      ]
    },
    {
      "cell_type": "code",
      "execution_count": 3,
      "metadata": {
        "colab": {
          "base_uri": "https://localhost:8080/"
        },
        "id": "6o10-jNPUQ9Q",
        "outputId": "f58d5e8c-393e-48cf-ba70-505ec4c4bd97"
      },
      "outputs": [
        {
          "output_type": "stream",
          "name": "stdout",
          "text": [
            "Collecting ultralytics\n",
            "  Downloading ultralytics-8.3.19-py3-none-any.whl.metadata (34 kB)\n",
            "Requirement already satisfied: opencv-python-headless in /usr/local/lib/python3.10/dist-packages (4.10.0.84)\n",
            "Requirement already satisfied: numpy>=1.23.0 in /usr/local/lib/python3.10/dist-packages (from ultralytics) (1.26.4)\n",
            "Requirement already satisfied: matplotlib>=3.3.0 in /usr/local/lib/python3.10/dist-packages (from ultralytics) (3.7.1)\n",
            "Requirement already satisfied: opencv-python>=4.6.0 in /usr/local/lib/python3.10/dist-packages (from ultralytics) (4.10.0.84)\n",
            "Requirement already satisfied: pillow>=7.1.2 in /usr/local/lib/python3.10/dist-packages (from ultralytics) (10.4.0)\n",
            "Requirement already satisfied: pyyaml>=5.3.1 in /usr/local/lib/python3.10/dist-packages (from ultralytics) (6.0.2)\n",
            "Requirement already satisfied: requests>=2.23.0 in /usr/local/lib/python3.10/dist-packages (from ultralytics) (2.32.3)\n",
            "Requirement already satisfied: scipy>=1.4.1 in /usr/local/lib/python3.10/dist-packages (from ultralytics) (1.13.1)\n",
            "Requirement already satisfied: torch>=1.8.0 in /usr/local/lib/python3.10/dist-packages (from ultralytics) (2.4.1+cu121)\n",
            "Requirement already satisfied: torchvision>=0.9.0 in /usr/local/lib/python3.10/dist-packages (from ultralytics) (0.19.1+cu121)\n",
            "Requirement already satisfied: tqdm>=4.64.0 in /usr/local/lib/python3.10/dist-packages (from ultralytics) (4.66.5)\n",
            "Requirement already satisfied: psutil in /usr/local/lib/python3.10/dist-packages (from ultralytics) (5.9.5)\n",
            "Requirement already satisfied: py-cpuinfo in /usr/local/lib/python3.10/dist-packages (from ultralytics) (9.0.0)\n",
            "Requirement already satisfied: pandas>=1.1.4 in /usr/local/lib/python3.10/dist-packages (from ultralytics) (2.2.2)\n",
            "Requirement already satisfied: seaborn>=0.11.0 in /usr/local/lib/python3.10/dist-packages (from ultralytics) (0.13.2)\n",
            "Collecting ultralytics-thop>=2.0.0 (from ultralytics)\n",
            "  Downloading ultralytics_thop-2.0.9-py3-none-any.whl.metadata (9.3 kB)\n",
            "Requirement already satisfied: contourpy>=1.0.1 in /usr/local/lib/python3.10/dist-packages (from matplotlib>=3.3.0->ultralytics) (1.3.0)\n",
            "Requirement already satisfied: cycler>=0.10 in /usr/local/lib/python3.10/dist-packages (from matplotlib>=3.3.0->ultralytics) (0.12.1)\n",
            "Requirement already satisfied: fonttools>=4.22.0 in /usr/local/lib/python3.10/dist-packages (from matplotlib>=3.3.0->ultralytics) (4.54.1)\n",
            "Requirement already satisfied: kiwisolver>=1.0.1 in /usr/local/lib/python3.10/dist-packages (from matplotlib>=3.3.0->ultralytics) (1.4.7)\n",
            "Requirement already satisfied: packaging>=20.0 in /usr/local/lib/python3.10/dist-packages (from matplotlib>=3.3.0->ultralytics) (24.1)\n",
            "Requirement already satisfied: pyparsing>=2.3.1 in /usr/local/lib/python3.10/dist-packages (from matplotlib>=3.3.0->ultralytics) (3.2.0)\n",
            "Requirement already satisfied: python-dateutil>=2.7 in /usr/local/lib/python3.10/dist-packages (from matplotlib>=3.3.0->ultralytics) (2.8.2)\n",
            "Requirement already satisfied: pytz>=2020.1 in /usr/local/lib/python3.10/dist-packages (from pandas>=1.1.4->ultralytics) (2024.2)\n",
            "Requirement already satisfied: tzdata>=2022.7 in /usr/local/lib/python3.10/dist-packages (from pandas>=1.1.4->ultralytics) (2024.2)\n",
            "Requirement already satisfied: charset-normalizer<4,>=2 in /usr/local/lib/python3.10/dist-packages (from requests>=2.23.0->ultralytics) (3.4.0)\n",
            "Requirement already satisfied: idna<4,>=2.5 in /usr/local/lib/python3.10/dist-packages (from requests>=2.23.0->ultralytics) (3.10)\n",
            "Requirement already satisfied: urllib3<3,>=1.21.1 in /usr/local/lib/python3.10/dist-packages (from requests>=2.23.0->ultralytics) (2.2.3)\n",
            "Requirement already satisfied: certifi>=2017.4.17 in /usr/local/lib/python3.10/dist-packages (from requests>=2.23.0->ultralytics) (2024.8.30)\n",
            "Requirement already satisfied: filelock in /usr/local/lib/python3.10/dist-packages (from torch>=1.8.0->ultralytics) (3.16.1)\n",
            "Requirement already satisfied: typing-extensions>=4.8.0 in /usr/local/lib/python3.10/dist-packages (from torch>=1.8.0->ultralytics) (4.12.2)\n",
            "Requirement already satisfied: sympy in /usr/local/lib/python3.10/dist-packages (from torch>=1.8.0->ultralytics) (1.13.3)\n",
            "Requirement already satisfied: networkx in /usr/local/lib/python3.10/dist-packages (from torch>=1.8.0->ultralytics) (3.4.1)\n",
            "Requirement already satisfied: jinja2 in /usr/local/lib/python3.10/dist-packages (from torch>=1.8.0->ultralytics) (3.1.4)\n",
            "Requirement already satisfied: fsspec in /usr/local/lib/python3.10/dist-packages (from torch>=1.8.0->ultralytics) (2024.6.1)\n",
            "Requirement already satisfied: six>=1.5 in /usr/local/lib/python3.10/dist-packages (from python-dateutil>=2.7->matplotlib>=3.3.0->ultralytics) (1.16.0)\n",
            "Requirement already satisfied: MarkupSafe>=2.0 in /usr/local/lib/python3.10/dist-packages (from jinja2->torch>=1.8.0->ultralytics) (3.0.1)\n",
            "Requirement already satisfied: mpmath<1.4,>=1.1.0 in /usr/local/lib/python3.10/dist-packages (from sympy->torch>=1.8.0->ultralytics) (1.3.0)\n",
            "Downloading ultralytics-8.3.19-py3-none-any.whl (876 kB)\n",
            "\u001b[2K   \u001b[90m━━━━━━━━━━━━━━━━━━━━━━━━━━━━━━━━━━━━━━━━\u001b[0m \u001b[32m876.6/876.6 kB\u001b[0m \u001b[31m23.8 MB/s\u001b[0m eta \u001b[36m0:00:00\u001b[0m\n",
            "\u001b[?25hDownloading ultralytics_thop-2.0.9-py3-none-any.whl (26 kB)\n",
            "Installing collected packages: ultralytics-thop, ultralytics\n",
            "Successfully installed ultralytics-8.3.19 ultralytics-thop-2.0.9\n"
          ]
        }
      ],
      "source": [
        "!pip install ultralytics opencv-python-headless"
      ]
    },
    {
      "cell_type": "code",
      "execution_count": 5,
      "metadata": {
        "colab": {
          "base_uri": "https://localhost:8080/"
        },
        "id": "Slz1mSOWURn5",
        "outputId": "2e758f69-8a5e-4000-f4b9-7829e4b926b6"
      },
      "outputs": [
        {
          "output_type": "stream",
          "name": "stdout",
          "text": [
            "Writing app.py\n"
          ]
        }
      ],
      "source": [
        "%%writefile app.py\n",
        "import io\n",
        "import time\n",
        "import streamlit as st\n",
        "import cv2\n",
        "import numpy as np\n",
        "import pandas as pd\n",
        "import os\n",
        "from ultralytics import YOLO\n",
        "from io import BytesIO\n",
        "from fpdf import FPDF\n",
        "from datetime import datetime\n",
        "\n",
        "# Dummy credentials for admin login\n",
        "ADMIN_CREDENTIALS = {\n",
        "    'admin': 'password123'  # Replace with actual admin credentials\n",
        "}\n",
        "\n",
        "# Function to check admin login\n",
        "def check_login(username, password):\n",
        "    return username in ADMIN_CREDENTIALS and ADMIN_CREDENTIALS[username] == password\n",
        "\n",
        "# Function to update CSV\n",
        "def update_csv(file_path, class_name, number_plate, detected, smoke_confidence, timestamp,bounding_box_area):\n",
        "    try:\n",
        "        if os.path.isfile(file_path):\n",
        "            df = pd.read_csv(file_path)\n",
        "        else:\n",
        "            df = pd.DataFrame(columns=['Class', 'Number Plate', 'Count', 'Smoke', 'Smoke Confidence', 'Timestamp','intensity%'])\n",
        "\n",
        "        existing_row = df[(df['Class'] == class_name) & (df['Number Plate'] == number_plate)]\n",
        "        if existing_row.empty:\n",
        "            new_row = pd.DataFrame([[class_name, number_plate, 1, detected, smoke_confidence, timestamp,smoke_confidence*100]],\n",
        "                                   columns=['Class', 'Number Plate', 'Count', 'Smoke', 'Smoke Confidence', 'Timestamp','intensity%'])\n",
        "            df = pd.concat([df, new_row], ignore_index=True)\n",
        "        else:\n",
        "            df.loc[existing_row.index, 'Count'] += 1\n",
        "            df.loc[existing_row.index, 'Smoke Confidence'] = smoke_confidence\n",
        "            df.loc[existing_row.index, 'Timestamp'] = timestamp\n",
        "            df.loc[existing_row.index, 'intensity%'] = smoke_confidence*100\n",
        "        df.to_csv(file_path, index=False)\n",
        "    except Exception as e:\n",
        "        st.error(f\"⚠️ Error: {e}\")\n",
        "\n",
        "# Function to download CSV\n",
        "def download_csv(file_path):\n",
        "    if os.path.isfile(file_path):\n",
        "        df = pd.read_csv(file_path)\n",
        "        csv_buffer = BytesIO()\n",
        "        df.to_csv(csv_buffer, index=False)\n",
        "        csv_buffer.seek(0)\n",
        "        st.download_button(\n",
        "            label=\"Download CSV\",\n",
        "            data=csv_buffer,\n",
        "            file_name=\"output.csv\",\n",
        "            mime=\"text/csv\",\n",
        "            key=\"download_csv\"\n",
        "        )\n",
        "\n",
        "# Function to generate challan\n",
        "def generate_challan(number_plate, class_name, smoke_confidence, fine_amount):\n",
        "    pdf = FPDF()\n",
        "    pdf.add_page()\n",
        "    pdf.set_font(\"Arial\", size=12)\n",
        "\n",
        "    current_datetime = datetime.now().strftime(\"%Y-%m-%d %H:%M:%S\")\n",
        "    pdf.cell(200, 10, txt=\"Traffic Violation Challan\", ln=True, align='C')\n",
        "    pdf.ln(10)\n",
        "\n",
        "    pdf.cell(200, 10, txt=f\"Vehicle Class: {class_name}\", ln=True)\n",
        "    pdf.cell(200, 10, txt=f\"Number Plate: {number_plate}\", ln=True)\n",
        "    pdf.cell(200, 10, txt=f\"Violation: Smoke Detected\", ln=True)\n",
        "    pdf.cell(200, 10, txt=f\"Smoke Detection Confidence: {smoke_confidence:.2f}\", ln=True)\n",
        "    pdf.cell(200, 10, txt=f\"Fine Amount: Rs {fine_amount}\", ln=True)\n",
        "    pdf.cell(200, 10, txt=f\"Date and Time: {current_datetime}\", ln=True)\n",
        "    pdf.ln(10)\n",
        "    pdf.cell(200, 10, txt=\"Please adhere to traffic rules and regulations.\", ln=True)\n",
        "\n",
        "    challan_path = f\"challan_{number_plate}.pdf\"\n",
        "    pdf.output(challan_path)\n",
        "    return challan_path\n",
        "\n",
        "# Function to process each frame or image\n",
        "# Function to process each frame or image\n",
        "def process_frame(frame, vehicle_model, plate_model, char_model, smoke_model, smoke_threshold):\n",
        "    results = vehicle_model(frame)\n",
        "\n",
        "    for result in results:\n",
        "        boxes = result.boxes.xyxy.tolist()\n",
        "        classes = result.boxes.cls.tolist()\n",
        "        names = result.names\n",
        "        confidences = result.boxes.conf.tolist()\n",
        "\n",
        "        for box, cls, conf in zip(boxes, classes, confidences):\n",
        "            x1, y1, x2, y2 = map(int, box)\n",
        "            classname = names[int(cls)]\n",
        "\n",
        "            # Vehicle ROI\n",
        "            vehicle_roi = frame[y1:y2, x1:x2]\n",
        "\n",
        "            # License plate detection\n",
        "            plate_results = plate_model(vehicle_roi)\n",
        "            plate_str = \"\"\n",
        "            s = ''\n",
        "            for plate_result in plate_results:\n",
        "                if len(plate_result.boxes.xyxy) > 0:\n",
        "                    plate_box = plate_result.boxes.xyxy.tolist()[0]\n",
        "                    x1p, y1p, x2p, y2p = map(int, plate_box)\n",
        "\n",
        "                    # License plate ROI\n",
        "                    plate_roi = vehicle_roi[y1p:y2p, x1p:x2p]\n",
        "                    cv2.rectangle(frame, (x1 + x1p, y1 + y1p), (x1 + x2p, y1 + y2p), (0, 255, 255), 2)\n",
        "                    cv2.putText(frame, 'License Plate', (x1 + x1p, y1 + y1p - 10), cv2.FONT_HERSHEY_SIMPLEX, 0.9, (0, 255, 255), 2)\n",
        "\n",
        "                    char_results = char_model(plate_roi)\n",
        "                    detected_objects = [{'class': char_result.names[int(cls)], 'x1': int(box[0]), 'y1': int(box[1])}\n",
        "                                        for char_result in char_results\n",
        "                                        for box, cls in zip(char_result.boxes.xyxy.tolist(), char_result.boxes.cls.tolist())]\n",
        "\n",
        "                    sorted_objects = sorted(detected_objects, key=lambda x: (x['y1'], x['x1']))\n",
        "                    if sorted_objects:\n",
        "                        current = sorted_objects[0]['y1']\n",
        "                        q, w, u, d = [], [], [], []\n",
        "                        for i in sorted_objects:\n",
        "                            if current - 3 <= i['y1'] <= current + 3:\n",
        "                                q.append(i['class'])\n",
        "                                w.append(i['x1'])\n",
        "                            else:\n",
        "                                u.append(i['class'])\n",
        "                                d.append(i['x1'])\n",
        "\n",
        "                        # Sort characters by x1 position\n",
        "                        q = [char for _, char in sorted(zip(w, q))]\n",
        "                        u = [char for _, char in sorted(zip(d, u))]\n",
        "\n",
        "                        s = ''.join(q + u)\n",
        "\n",
        "                    plate_str = s\n",
        "                    cv2.putText(frame, f'Plate: {s}', (x1 + x1p, y1 + y2p + 30), cv2.FONT_HERSHEY_SIMPLEX, 0.9, (0, 255, 255), 2)\n",
        "\n",
        "            # Smoke detection (only considering the \"smoke\" class and confidence < smoke_threshold)\n",
        "            y1_adjusted = max(y1 + 70, 0)\n",
        "            y2_adjusted = min(y2 + 70, frame.shape[0])\n",
        "            x1_adjusted = max(x1 - 50, 0)\n",
        "            x2_adjusted = min(x2 + 50, frame.shape[1])\n",
        "\n",
        "            vehicle_roi1 = frame[y1_adjusted:y2_adjusted, x1_adjusted:x2_adjusted]\n",
        "            smoke_results = smoke_model(vehicle_roi1)\n",
        "            smoke_detected = False\n",
        "            for smoke_result in smoke_results:\n",
        "                smoke_boxes = smoke_result.boxes.xyxy.tolist()\n",
        "                smoke_classes = smoke_result.boxes.cls.tolist()\n",
        "                smoke_confs = smoke_result.boxes.conf.tolist()\n",
        "\n",
        "                for smoke_box, smoke_cls, smoke_conf in zip(smoke_boxes, smoke_classes, smoke_confs):\n",
        "                    if smoke_conf < smoke_threshold:  # Only consider smoke class and confidence < threshold\n",
        "                        x1s, y1s, x2s, y2s = map(int, smoke_box)\n",
        "                        bounding_box_area = (x2s - x1s) * (y2s - y1s)\n",
        "                        cv2.rectangle(frame, (x1_adjusted + x1s, y1_adjusted + y1s), (x1_adjusted + x2s, y1_adjusted + y2s), (0, 255, 0), 2)\n",
        "                        cv2.putText(frame, 'Smoke Detected', (x1_adjusted + x1s, y1_adjusted + y1s - 10), cv2.FONT_HERSHEY_SIMPLEX, 0.9, (0, 255, 0), 2)\n",
        "                        smoke_detected = True\n",
        "\n",
        "            if len(s) > 8 and smoke_detected:  # Ensure valid number plate length and smoke detected\n",
        "                timestamp = datetime.now().strftime(\"%Y-%m-%d %H:%M:%S\")\n",
        "                detected = 'Yes'\n",
        "                update_csv('output.csv', classname, s, detected, smoke_conf, timestamp,bounding_box_area)\n",
        "\n",
        "                fine_amount = 100  # Example fine amount, can be dynamic\n",
        "                challan_path = generate_challan(s, classname, smoke_conf, fine_amount)\n",
        "            cv2.rectangle(frame, (x1, y1), (x2, y2), (255, 0, 255), 2)\n",
        "            cv2.rectangle(frame, (x1_adjusted, y1_adjusted), (x2_adjusted, y2_adjusted), (255, 0, 255), 2)\n",
        "            cv2.putText(frame, classname, (x1, y1 - 10), cv2.FONT_HERSHEY_SIMPLEX, 0.9, (255, 0, 255), 2)\n",
        "\n",
        "    return frame\n",
        "\n",
        "\n",
        "# Streamlit login form\n",
        "def login():\n",
        "    st.title(\"🔐 Admin Login\")\n",
        "    st.subheader(\"Please enter your credentials to login.\")\n",
        "\n",
        "    username = st.text_input(\"👤 Username\")\n",
        "    password = st.text_input(\"🔑 Password\", type='password')\n",
        "\n",
        "    if st.button(\"Login\"):\n",
        "        if check_login(username, password):\n",
        "            st.session_state['logged_in'] = True\n",
        "            st.success(\"🎉 Logged in successfully!\")\n",
        "        else:\n",
        "            st.error(\"❌ Invalid username or password\")\n",
        "\n",
        "# Main application logic\n",
        "# Main application logic\n",
        "def main_app():\n",
        "    st.title(\"🚗 Smoke and Vehicle Detection and Processing App\")\n",
        "\n",
        "    st.sidebar.title(\"Upload Options\")\n",
        "    uploaded_file = st.sidebar.file_uploader(\"📁 Choose a video or image file\", type=[\"mp4\", \"avi\", \"mov\", \"png\", \"jpg\", \"jpeg\"])\n",
        "\n",
        "    # Smoke detection threshold slider\n",
        "    smoke_threshold = st.sidebar.slider(\"🟢 Smoke Detection Confidence Threshold\", 0.0, 1.0, 0.5, 0.05)\n",
        "\n",
        "    if uploaded_file:\n",
        "        input_path = f\"temp_{uploaded_file.name}\"\n",
        "\n",
        "        with open(input_path, 'wb') as f:\n",
        "            f.write(uploaded_file.read())\n",
        "\n",
        "        if input_path.lower().endswith(('.png', '.jpg', '.jpeg')):\n",
        "            st.image(input_path, caption='📷 Uploaded Image', use_column_width=True)\n",
        "\n",
        "            vehicle_model = YOLO(\"/content/Veh.pt\")\n",
        "            plate_model = YOLO(\"/content/num.pt\")\n",
        "            char_model = YOLO(\"/content/char.pt\")\n",
        "            smoke_model = YOLO(\"/content/smoke.pt\")\n",
        "\n",
        "            image = cv2.imread(input_path)\n",
        "            processed_image = process_frame(image, vehicle_model, plate_model, char_model, smoke_model, smoke_threshold)\n",
        "            st.success(\"✅ CSV file updated successfully!\")\n",
        "            output_image_path = 'processed_image.jpg'\n",
        "            cv2.imwrite(output_image_path, processed_image)\n",
        "            st.image(processed_image, caption='✅ Processed Image', use_column_width=True)\n",
        "\n",
        "            with open(output_image_path, \"rb\") as file:\n",
        "                st.download_button(label=\"💾 Download Processed Image\", data=file, file_name=\"processed_image.jpg\", mime=\"image/jpeg\", key=\"download_image\")\n",
        "\n",
        "        else:\n",
        "            st.video(input_path)\n",
        "\n",
        "            vehicle_model = YOLO(\"/content/Veh.pt\")\n",
        "            plate_model = YOLO(\"/content/num.pt\")\n",
        "            char_model = YOLO(\"/content/char.pt\")\n",
        "            smoke_model = YOLO(\"/content/smoke.pt\")\n",
        "\n",
        "            video_capture = cv2.VideoCapture(input_path)\n",
        "\n",
        "            fourcc = cv2.VideoWriter_fourcc(*'mp4v')\n",
        "            out_fps = video_capture.get(cv2.CAP_PROP_FPS)\n",
        "            frame_width = int(video_capture.get(cv2.CAP_PROP_FRAME_WIDTH))\n",
        "            frame_height = int(video_capture.get(cv2.CAP_PROP_FRAME_HEIGHT))\n",
        "\n",
        "            output_video_path = 'output_video.mp4'\n",
        "            video_writer = cv2.VideoWriter(output_video_path, fourcc, out_fps, (frame_width, frame_height))\n",
        "\n",
        "            while video_capture.isOpened():\n",
        "                ret, frame = video_capture.read()\n",
        "                if not ret:\n",
        "                    break\n",
        "\n",
        "                processed_frame = process_frame(frame, vehicle_model, plate_model, char_model, smoke_model, smoke_threshold)\n",
        "                video_writer.write(processed_frame)\n",
        "\n",
        "            video_capture.release()\n",
        "            video_writer.release()\n",
        "\n",
        "            st.video(output_video_path)\n",
        "            st.success(\"✅ CSV file updated successfully!\")\n",
        "\n",
        "            with open(output_video_path, \"rb\") as file:\n",
        "                st.download_button(label=\"💾 Download Processed Video\", data=file, file_name=\"processed_video.mp4\", mime=\"video/mp4\", key=\"download_video\")\n",
        "\n",
        "        # Add CSV download button\n",
        "        download_csv('output.csv')\n",
        "\n",
        "        # Find row with maximum intensity percentage\n",
        "        try:\n",
        "            df = pd.read_csv('output.csv')\n",
        "            max_intensity_row = df.loc[df['intensity%'].idxmax()]\n",
        "            max_intensity = max_intensity_row['intensity%']\n",
        "            number_plate = max_intensity_row['Number Plate']\n",
        "            class_name = max_intensity_row['Class']\n",
        "            smoke_confidence = max_intensity_row['Smoke Confidence']\n",
        "\n",
        "            st.write(f\"📊 Maximum intensity percentage is {max_intensity:.2f}% for vehicle with number plate: {number_plate}.\")\n",
        "\n",
        "            # Generate challan for the row with maximum intensity\n",
        "            fine_amount = 100  # Example fine amount, can be dynamic\n",
        "            challan_path = generate_challan(number_plate, class_name, smoke_confidence, fine_amount)\n",
        "            with open(challan_path, \"rb\") as file:\n",
        "                st.download_button(label=\"💾 Download Challan\", data=file, file_name=challan_path, mime=\"application/pdf\", key=f\"challan_{number_plate}_{time.time()}\")\n",
        "\n",
        "        except Exception as e:\n",
        "            st.error(f\"⚠️ Error finding maximum intensity row: {e}\")\n",
        "\n",
        "\n",
        "# Main execution flow\n",
        "if 'logged_in' not in st.session_state:\n",
        "    st.session_state['logged_in'] = False\n",
        "\n",
        "if not st.session_state['logged_in']:\n",
        "    login()\n",
        "else:\n",
        "    main_app()\n"
      ]
    },
    {
      "cell_type": "code",
      "execution_count": 4,
      "metadata": {
        "colab": {
          "base_uri": "https://localhost:8080/"
        },
        "id": "DhRRyqjJUWU6",
        "outputId": "5947a19c-b5b8-4cf6-d750-e8fa37dc10b7"
      },
      "outputs": [
        {
          "output_type": "stream",
          "name": "stdout",
          "text": [
            "Collecting fpdf\n",
            "  Downloading fpdf-1.7.2.tar.gz (39 kB)\n",
            "  Preparing metadata (setup.py) ... \u001b[?25l\u001b[?25hdone\n",
            "Building wheels for collected packages: fpdf\n",
            "  Building wheel for fpdf (setup.py) ... \u001b[?25l\u001b[?25hdone\n",
            "  Created wheel for fpdf: filename=fpdf-1.7.2-py2.py3-none-any.whl size=40704 sha256=a0bb3c34f034fcc50856e32f1e02f33dd10b041e0cd6cd65766f54c9936f53bd\n",
            "  Stored in directory: /root/.cache/pip/wheels/f9/95/ba/f418094659025eb9611f17cbcaf2334236bf39a0c3453ea455\n",
            "Successfully built fpdf\n",
            "Installing collected packages: fpdf\n",
            "Successfully installed fpdf-1.7.2\n"
          ]
        }
      ],
      "source": [
        "!pip install fpdf"
      ]
    },
    {
      "cell_type": "code",
      "execution_count": 7,
      "metadata": {
        "colab": {
          "base_uri": "https://localhost:8080/"
        },
        "id": "BZkrgL6_UYjJ",
        "outputId": "75a58162-1d75-41cb-d423-b16b9e5b3249"
      },
      "outputs": [
        {
          "output_type": "stream",
          "name": "stdout",
          "text": [
            "34.145.91.97\n",
            "your url is: https://clean-comics-suffer.loca.lt\n"
          ]
        }
      ],
      "source": [
        "!streamlit run app.py &>/content/logs.txt & npx localtunnel --port 8501 & curl ipv4.icanhazip.com"
      ]
    },
    {
      "cell_type": "code",
      "execution_count": null,
      "metadata": {
        "colab": {
          "base_uri": "https://localhost:8080/"
        },
        "id": "3UJw3bErDwn4",
        "outputId": "bca10811-ef6f-4f33-a338-524cbb3950cd"
      },
      "outputs": [
        {
          "name": "stdout",
          "output_type": "stream",
          "text": [
            "Mounted at /content/drive\n"
          ]
        }
      ],
      "source": [
        "from google.colab import drive\n",
        "drive.mount('/content/drive')"
      ]
    }
  ],
  "metadata": {
    "accelerator": "GPU",
    "colab": {
      "gpuType": "T4",
      "provenance": []
    },
    "kernelspec": {
      "display_name": "Python 3",
      "name": "python3"
    },
    "language_info": {
      "name": "python"
    }
  },
  "nbformat": 4,
  "nbformat_minor": 0
}